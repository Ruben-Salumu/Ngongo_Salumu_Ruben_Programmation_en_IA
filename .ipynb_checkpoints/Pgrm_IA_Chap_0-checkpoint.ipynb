{
 "cells": [
  {
   "cell_type": "markdown",
   "id": "92e5f11a-236b-4c87-b3a2-f15ec8f9e52d",
   "metadata": {},
   "source": [
    "# 1.1 Tableau 3D"
   ]
  },
  {
   "cell_type": "code",
   "execution_count": 8,
   "id": "4873f5aa-c87a-485d-a6d4-d6c5d1e88053",
   "metadata": {},
   "outputs": [],
   "source": [
    "import numpy as np"
   ]
  },
  {
   "cell_type": "code",
   "execution_count": 9,
   "id": "ca3a1ea6-1010-4c9c-aeb4-9b4bd879c1f1",
   "metadata": {},
   "outputs": [],
   "source": [
    "Tableau3D= np.array([[\n",
    "    [1,3,5,7,9],\n",
    "    [10,30,50,70,90]], \n",
    "    [[100,300,500,700,900],\n",
    "    [1000,3000,5000,7000, 9000]\n",
    "                     ]])"
   ]
  },
  {
   "cell_type": "code",
   "execution_count": 10,
   "id": "fd49861a-6846-49fd-8a1b-84d4c32e06a0",
   "metadata": {},
   "outputs": [
    {
     "name": "stdout",
     "output_type": "stream",
     "text": [
      "500\n"
     ]
    }
   ],
   "source": [
    "print(Tableau3D[1,0,2])"
   ]
  },
  {
   "cell_type": "code",
   "execution_count": 11,
   "id": "68d8e745-c35d-4eb9-9291-0c9ab79cd17c",
   "metadata": {},
   "outputs": [
    {
     "name": "stdout",
     "output_type": "stream",
     "text": [
      "(2, 2, 5)\n"
     ]
    }
   ],
   "source": [
    "print(Tableau3D.shape)"
   ]
  },
  {
   "cell_type": "code",
   "execution_count": 12,
   "id": "d72c8b6c-edbc-4596-9daa-5d73df1a41bb",
   "metadata": {},
   "outputs": [
    {
     "name": "stdout",
     "output_type": "stream",
     "text": [
      "3\n"
     ]
    }
   ],
   "source": [
    "print(Tableau3D.ndim)"
   ]
  }
 ],
 "metadata": {
  "kernelspec": {
   "display_name": "Python 3 (ipykernel)",
   "language": "python",
   "name": "python3"
  },
  "language_info": {
   "codemirror_mode": {
    "name": "ipython",
    "version": 3
   },
   "file_extension": ".py",
   "mimetype": "text/x-python",
   "name": "python",
   "nbconvert_exporter": "python",
   "pygments_lexer": "ipython3",
   "version": "3.10.15"
  }
 },
 "nbformat": 4,
 "nbformat_minor": 5
}
